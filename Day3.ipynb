{
 "cells": [
  {
   "cell_type": "markdown",
   "id": "3b894a1a-cbe1-4697-9a9b-f0ae41ffefdb",
   "metadata": {},
   "source": [
    "# String Slicing"
   ]
  },
  {
   "cell_type": "markdown",
   "id": "c0ea41a4-23e1-4333-82d2-0bb0d04b5498",
   "metadata": {},
   "source": [
    "# [startIndex:stopIndex:StepSize]"
   ]
  },
  {
   "cell_type": "code",
   "execution_count": 11,
   "id": "60fa19fc-b575-46a9-a260-574e995bb518",
   "metadata": {},
   "outputs": [
    {
     "name": "stdout",
     "output_type": "stream",
     "text": [
      "llo\n"
     ]
    }
   ],
   "source": [
    "str = \"Hello World\"\n",
    "print(str[2:5])"
   ]
  },
  {
   "cell_type": "code",
   "execution_count": 8,
   "id": "a7483607-f5ab-46eb-914a-30ad9ee61e28",
   "metadata": {},
   "outputs": [
    {
     "name": "stdout",
     "output_type": "stream",
     "text": [
      "Hello\n"
     ]
    }
   ],
   "source": [
    "print(str[:5])"
   ]
  },
  {
   "cell_type": "code",
   "execution_count": 28,
   "id": "847c945e-fd59-4105-bf93-bd5d7702e0f7",
   "metadata": {},
   "outputs": [
    {
     "name": "stdout",
     "output_type": "stream",
     "text": [
      "Wor\n"
     ]
    }
   ],
   "source": [
    "print(str[-5:-2:])"
   ]
  },
  {
   "cell_type": "code",
   "execution_count": 33,
   "id": "45bef2ca-2efb-4c46-8cc3-f7810695698a",
   "metadata": {},
   "outputs": [
    {
     "name": "stdout",
     "output_type": "stream",
     "text": [
      "Hello World\n"
     ]
    }
   ],
   "source": [
    "print(str[::1])"
   ]
  },
  {
   "cell_type": "code",
   "execution_count": 35,
   "id": "6148eb44-83ec-4ea1-b1c5-07676a780c4c",
   "metadata": {},
   "outputs": [
    {
     "name": "stdout",
     "output_type": "stream",
     "text": [
      "dlroW olleH\n"
     ]
    }
   ],
   "source": [
    "print(str[::-1])"
   ]
  },
  {
   "cell_type": "markdown",
   "id": "d4cb74f9-e833-49de-b5c7-1547b4ad48c1",
   "metadata": {},
   "source": [
    "# Modify Strings in python"
   ]
  },
  {
   "cell_type": "code",
   "execution_count": 39,
   "id": "eadbeb57-d8f4-4ace-9199-0a108772d7b7",
   "metadata": {},
   "outputs": [
    {
     "name": "stdout",
     "output_type": "stream",
     "text": [
      "HELLO WORLD\n"
     ]
    }
   ],
   "source": [
    "str = \"Hello world\"\n",
    "print(str.upper())"
   ]
  },
  {
   "cell_type": "code",
   "execution_count": 41,
   "id": "655f369c-37ca-41c1-9161-455b0433989a",
   "metadata": {},
   "outputs": [
    {
     "name": "stdout",
     "output_type": "stream",
     "text": [
      "hello world\n"
     ]
    }
   ],
   "source": [
    "print(str.lower())"
   ]
  },
  {
   "cell_type": "code",
   "execution_count": 43,
   "id": "afe7aa47-be38-4cc4-9095-3aac8d5ea43a",
   "metadata": {},
   "outputs": [
    {
     "name": "stdout",
     "output_type": "stream",
     "text": [
      "Hello World\n"
     ]
    }
   ],
   "source": [
    "str = \" Hello World\" # removes whitespace from begining of string \n",
    "print(str.strip())"
   ]
  },
  {
   "cell_type": "code",
   "execution_count": 44,
   "id": "a044e8f9-e0fd-4c74-bf3c-8155b81f886c",
   "metadata": {},
   "outputs": [
    {
     "name": "stdout",
     "output_type": "stream",
     "text": [
      "Jello World\n"
     ]
    }
   ],
   "source": [
    "str = \"Hello World\"\n",
    "\n",
    "print(str.replace('H','J'))"
   ]
  },
  {
   "cell_type": "code",
   "execution_count": 49,
   "id": "c24d7f6b-684d-4745-9657-695bc114a3a2",
   "metadata": {},
   "outputs": [
    {
     "name": "stdout",
     "output_type": "stream",
     "text": [
      "Help on built-in function replace:\n",
      "\n",
      "replace(old, new, count=-1, /) method of builtins.str instance\n",
      "    Return a copy with all occurrences of substring old replaced by new.\n",
      "\n",
      "      count\n",
      "        Maximum number of occurrences to replace.\n",
      "        -1 (the default value) means replace all occurrences.\n",
      "\n",
      "    If the optional argument count is given, only the first count occurrences are\n",
      "    replaced.\n",
      "\n"
     ]
    }
   ],
   "source": [
    "help(str.replace)"
   ]
  },
  {
   "cell_type": "code",
   "execution_count": 57,
   "id": "9472a169-1fd5-4309-bd83-a262fdbd6e99",
   "metadata": {},
   "outputs": [
    {
     "name": "stdout",
     "output_type": "stream",
     "text": [
      "Hell000o World\n"
     ]
    }
   ],
   "source": [
    "str = \"Helloooo World\"\n",
    "print(str.replace('o','0',3))"
   ]
  },
  {
   "cell_type": "code",
   "execution_count": 58,
   "id": "b2db9287-17fd-4c7c-8ea6-56a3bc2cfc10",
   "metadata": {},
   "outputs": [
    {
     "name": "stdout",
     "output_type": "stream",
     "text": [
      "Help on built-in function split:\n",
      "\n",
      "split(sep=None, maxsplit=-1) method of builtins.str instance\n",
      "    Return a list of the substrings in the string, using sep as the separator string.\n",
      "\n",
      "      sep\n",
      "        The separator used to split the string.\n",
      "\n",
      "        When set to None (the default value), will split on any whitespace\n",
      "        character (including \\n \\r \\t \\f and spaces) and will discard\n",
      "        empty strings from the result.\n",
      "      maxsplit\n",
      "        Maximum number of splits.\n",
      "        -1 (the default value) means no limit.\n",
      "\n",
      "    Splitting starts at the front of the string and works to the end.\n",
      "\n",
      "    Note, str.split() is mainly useful for data that has been intentionally\n",
      "    delimited.  With natural text that includes punctuation, consider using\n",
      "    the regular expression module.\n",
      "\n"
     ]
    }
   ],
   "source": [
    "help(str.split)"
   ]
  },
  {
   "cell_type": "code",
   "execution_count": 68,
   "id": "c4bc936c-07a4-4613-ade9-8f730feae2f0",
   "metadata": {},
   "outputs": [
    {
     "name": "stdout",
     "output_type": "stream",
     "text": [
      "Hello world it's me Sandesh Prasai Learning Python!\n"
     ]
    }
   ],
   "source": [
    "str = \"Hello world it's me Sandesh Prasai Learning Python!\"\n",
    "print(str)"
   ]
  },
  {
   "cell_type": "code",
   "execution_count": 74,
   "id": "85fe91b3-6085-4a92-aac3-20611ac52a98",
   "metadata": {},
   "outputs": [
    {
     "name": "stdout",
     "output_type": "stream",
     "text": [
      "['Hello', 'world', \"it's\", 'me', 'Sandesh', 'Prasai', 'Learning', 'Python!']\n"
     ]
    }
   ],
   "source": [
    "print(str.split(\" \" ,-1 ))"
   ]
  },
  {
   "cell_type": "code",
   "execution_count": null,
   "id": "cee01a47-cbeb-48da-b0c3-7579c207178e",
   "metadata": {},
   "outputs": [],
   "source": []
  },
  {
   "cell_type": "markdown",
   "id": "f888037d-908a-4d6c-bbd7-53d348318eb8",
   "metadata": {},
   "source": [
    "# String formatting"
   ]
  },
  {
   "cell_type": "code",
   "execution_count": 80,
   "id": "abbe62e4-0813-458f-bc76-14b707afbec4",
   "metadata": {},
   "outputs": [
    {
     "name": "stdout",
     "output_type": "stream",
     "text": [
      "My name is Sandesh Prasai. I am 23\n"
     ]
    }
   ],
   "source": [
    "del str\n",
    "age = 23\n",
    "text= \"My name is Sandesh Prasai. I am \" + str(age)\n",
    "print(text)"
   ]
  },
  {
   "cell_type": "code",
   "execution_count": 84,
   "id": "a7b9428d-44db-4d78-9eac-9bbbbca5c15a",
   "metadata": {},
   "outputs": [
    {
     "name": "stdout",
     "output_type": "stream",
     "text": [
      "My name is Sandesh Prasai. I am  23\n"
     ]
    }
   ],
   "source": [
    "age = 23\n",
    "text= \"My name is Sandesh Prasai. I am \"\n",
    "print(f\"{text} {age}\")"
   ]
  },
  {
   "cell_type": "code",
   "execution_count": 90,
   "id": "ff96d898-c9af-4392-b60c-311cdfc16eb8",
   "metadata": {},
   "outputs": [
    {
     "name": "stdout",
     "output_type": "stream",
     "text": [
      "The price of 15 books is Rs.3000\n"
     ]
    }
   ],
   "source": [
    "items = 15\n",
    "price = 200\n",
    "\n",
    "print(f\"The price of {items} books is Rs.{items*price}\")"
   ]
  },
  {
   "cell_type": "code",
   "execution_count": null,
   "id": "ca31e6ae-d0a1-4646-978b-424da2c6c31c",
   "metadata": {},
   "outputs": [],
   "source": []
  }
 ],
 "metadata": {
  "kernelspec": {
   "display_name": "Python 3 (ipykernel)",
   "language": "python",
   "name": "python3"
  },
  "language_info": {
   "codemirror_mode": {
    "name": "ipython",
    "version": 3
   },
   "file_extension": ".py",
   "mimetype": "text/x-python",
   "name": "python",
   "nbconvert_exporter": "python",
   "pygments_lexer": "ipython3",
   "version": "3.12.7"
  }
 },
 "nbformat": 4,
 "nbformat_minor": 5
}
