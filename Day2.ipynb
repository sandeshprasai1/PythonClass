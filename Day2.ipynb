{
 "cells": [
  {
   "cell_type": "markdown",
   "id": "63b8b9cf-31ba-4b11-8110-e48f5335b01e",
   "metadata": {},
   "source": [
    "# Declearing Using different Quotes"
   ]
  },
  {
   "cell_type": "code",
   "execution_count": 4,
   "id": "b90e4c6f-5490-49d7-85d8-9134db66e3f2",
   "metadata": {},
   "outputs": [
    {
     "name": "stdout",
     "output_type": "stream",
     "text": [
      "True\n"
     ]
    }
   ],
   "source": [
    "a = 'Hello'\n",
    "b= \"Hello\"\n",
    "print(a==b)"
   ]
  },
  {
   "cell_type": "markdown",
   "id": "c024eb32-0432-464a-9989-cc1d5fb1ea1f",
   "metadata": {},
   "source": [
    "# Fill this to print: Alex is learning Python\""
   ]
  },
  {
   "cell_type": "code",
   "execution_count": 7,
   "id": "b90d651d-391e-49ad-8932-da29709d7f01",
   "metadata": {},
   "outputs": [
    {
     "name": "stdout",
     "output_type": "stream",
     "text": [
      "Alex is learning Python\n",
      "Alex is learning Python\n"
     ]
    }
   ],
   "source": [
    "name = \"Alex\"\n",
    "language = \"Python\"\n",
    "print(name, \"is learning\" , language  )\n",
    "print(name+\" is learning \"+language)"
   ]
  },
  {
   "cell_type": "code",
   "execution_count": null,
   "id": "f1fe6ce1-d645-4ad2-99e2-d930122b3df0",
   "metadata": {},
   "outputs": [],
   "source": []
  },
  {
   "cell_type": "markdown",
   "id": "a66aceae-aac3-4018-b3f5-9b46d3b38a90",
   "metadata": {},
   "source": [
    "# Escape Sequence "
   ]
  },
  {
   "cell_type": "code",
   "execution_count": 14,
   "id": "cc4c1b10-a83d-478d-9952-701b5f960ff8",
   "metadata": {},
   "outputs": [
    {
     "name": "stdout",
     "output_type": "stream",
     "text": [
      "She Said 'Python is Easy'\n",
      "It's a good day to code\n"
     ]
    }
   ],
   "source": [
    "print(\"She Said \\'Python is Easy\\'\")\n",
    "print(\"It\\'s a good day to code\")"
   ]
  },
  {
   "cell_type": "code",
   "execution_count": null,
   "id": "161ccb69-b211-4882-802f-65a56afb805d",
   "metadata": {},
   "outputs": [],
   "source": [
    "    "
   ]
  },
  {
   "cell_type": "markdown",
   "id": "1da45f00-fabc-4b40-9175-b70716d81c92",
   "metadata": {},
   "source": [
    "# Basic Complex Operations"
   ]
  },
  {
   "cell_type": "code",
   "execution_count": 16,
   "id": "25e36194-6e7a-4e3d-bead-ed41afcd75eb",
   "metadata": {},
   "outputs": [
    {
     "name": "stdout",
     "output_type": "stream",
     "text": [
      "(4+2j)\n",
      "(2+6j)\n",
      "(11-2j)\n"
     ]
    }
   ],
   "source": [
    "a = 3+4j\n",
    "b = 1-2j\n",
    "\n",
    "print(a+b)\n",
    "print(a-b)\n",
    "print(a*b)"
   ]
  },
  {
   "cell_type": "code",
   "execution_count": 17,
   "id": "dc819f41-f380-401d-a5b7-5d2421aa6de7",
   "metadata": {},
   "outputs": [],
   "source": [
    "x= 6+5j"
   ]
  },
  {
   "cell_type": "code",
   "execution_count": 21,
   "id": "77a590bb-b8cf-4393-88e6-7ce885934334",
   "metadata": {},
   "outputs": [
    {
     "data": {
      "text/plain": [
       "5.0"
      ]
     },
     "execution_count": 21,
     "metadata": {},
     "output_type": "execute_result"
    }
   ],
   "source": [
    "x.real ## real/imag  is an attribute \n",
    "x.imag"
   ]
  },
  {
   "cell_type": "code",
   "execution_count": 25,
   "id": "245cb2b0-c1c6-40b3-9809-a14d4aab8285",
   "metadata": {},
   "outputs": [
    {
     "name": "stdout",
     "output_type": "stream",
     "text": [
      "(6-5j)\n",
      "7.810249675906654\n"
     ]
    }
   ],
   "source": [
    "print(x.conjugate()) \n",
    "print(abs(x)) # sqrt(a^2 + b^2)"
   ]
  },
  {
   "cell_type": "markdown",
   "id": "ba7aad96-e801-4885-aab7-0379da1cc4d6",
   "metadata": {},
   "source": [
    "# 1. Check Real or Imaginary Part\n",
    "\n"
   ]
  },
  {
   "cell_type": "code",
   "execution_count": 39,
   "id": "9e98269f-202c-4b92-aa90-fe25416847b4",
   "metadata": {},
   "outputs": [
    {
     "name": "stdout",
     "output_type": "stream",
     "text": [
      "Real Number \n",
      "Imaginary Number\n"
     ]
    }
   ],
   "source": [
    "x = 4 + 0j\n",
    "y = 0 + 7j\n",
    "\n",
    "# Write code to check:\n",
    "# - If x is purely real, print \"Real number\"\n",
    "# - If y is purely imaginary, print \"Imaginary number\"\n",
    "\n",
    "if (x.imag == 0):\n",
    "    print(\"Real Number \")\n",
    "\n",
    "if(y.real == 0):\n",
    "    print(\"Imaginary Number\")"
   ]
  },
  {
   "cell_type": "markdown",
   "id": "f9a13eeb-1853-41c1-917b-503c95aeaa4d",
   "metadata": {},
   "source": [
    "# Formatted String from User Input (Optional: input)\n"
   ]
  },
  {
   "cell_type": "code",
   "execution_count": 47,
   "id": "efa8bba5-4a7a-4ec1-8c61-61d42072e312",
   "metadata": {},
   "outputs": [
    {
     "name": "stdout",
     "output_type": "stream",
     "text": [
      "\"You Said:  Python is fun \"\n"
     ]
    }
   ],
   "source": [
    "x =\"Python\"\n",
    "y= \"is\"\n",
    "z=\"fun\"\n",
    "\n",
    "print(f\"\\\"You Said:  {x} {y} {z} \\\"\")"
   ]
  },
  {
   "cell_type": "code",
   "execution_count": null,
   "id": "76a5b52c-92d0-498d-bbc7-c6f8ef40a2b7",
   "metadata": {},
   "outputs": [],
   "source": []
  },
  {
   "cell_type": "code",
   "execution_count": 50,
   "id": "e8a0d531-a683-45a3-b471-a05d1b716fa1",
   "metadata": {},
   "outputs": [
    {
     "name": "stdout",
     "output_type": "stream",
     "text": [
      "Sorted By Magnitude\n",
      "(1+2j)\n",
      "(3+4j)\n",
      "(5+12j)\n"
     ]
    }
   ],
   "source": [
    "a = 3 + 4j\n",
    "b = 1 + 2j\n",
    "c = 5 + 12j\n",
    "\n",
    "numbers = [a,b,c]\n",
    "sorted_numbers = sorted(numbers, key=abs)\n",
    "print(\"Sorted By Magnitude\")\n",
    "\n",
    "for num in sorted_numbers:\n",
    "    print(num)"
   ]
  },
  {
   "cell_type": "code",
   "execution_count": null,
   "id": "981908ac-5e09-4cf0-99db-73ea6d939b5a",
   "metadata": {},
   "outputs": [],
   "source": []
  },
  {
   "cell_type": "markdown",
   "id": "c865be4e-58b9-46f6-8bed-74036d17a008",
   "metadata": {},
   "source": [
    "# Even Length Words Extractor"
   ]
  },
  {
   "cell_type": "code",
   "execution_count": 61,
   "id": "63bd7db0-195c-415f-bcf9-dd9646fe7ea9",
   "metadata": {},
   "outputs": [
    {
     "name": "stdout",
     "output_type": "stream",
     "text": [
      "['Python', 'programming', 'is', 'really', 'awesome']\n",
      "Python\n",
      "is\n",
      "really\n",
      "['Python', 'is', 'really']\n"
     ]
    }
   ],
   "source": [
    "sentence = \"Python programming is really awesome\"\n",
    "words = sentence.split()\n",
    "print(words)\n",
    "\n",
    "for word in words:\n",
    "   if(len(word)%2 == 0):\n",
    "       print(word)\n",
    "\n",
    "\n",
    "even_words = [word for word in words if len(word)%2==0]\n",
    "print(even_words)\n"
   ]
  },
  {
   "cell_type": "code",
   "execution_count": null,
   "id": "710b4543-8125-4d00-951f-40c0a13cc48e",
   "metadata": {},
   "outputs": [],
   "source": []
  },
  {
   "cell_type": "markdown",
   "id": "886cf300-ce10-41b9-b688-5b28b6b0f2ab",
   "metadata": {},
   "source": [
    "# Reversing A string"
   ]
  },
  {
   "cell_type": "code",
   "execution_count": 73,
   "id": "269a3e85-1cfe-4f90-a2d1-4fd736769e50",
   "metadata": {},
   "outputs": [
    {
     "name": "stdout",
     "output_type": "stream",
     "text": [
      "['Python', 'is', 'fun']\n",
      "['nohtyP', 'si', 'nuf']\n"
     ]
    }
   ],
   "source": [
    "sentence = \"Python is fun\"\n",
    "\n",
    "words = sentence.split()\n",
    "print(words)\n",
    "\n",
    "reversed_word= [word[::-1] for word in words]\n",
    "print(reversed_word)"
   ]
  },
  {
   "cell_type": "code",
   "execution_count": 80,
   "id": "f966d13d-b04c-44a2-bdb5-e1dca3b6c20d",
   "metadata": {},
   "outputs": [
    {
     "name": "stdout",
     "output_type": "stream",
     "text": [
      "hsednaS\n"
     ]
    }
   ],
   "source": [
    "\n",
    "str= \"Sandesh\"\n",
    "\n",
    "reversed_str =str[::-1]\n",
    "print(reversed_str)"
   ]
  },
  {
   "cell_type": "code",
   "execution_count": 83,
   "id": "525025af-5ebe-4e75-af2a-7c11c77ea41a",
   "metadata": {},
   "outputs": [
    {
     "data": {
      "text/plain": [
       "7"
      ]
     },
     "execution_count": 83,
     "metadata": {},
     "output_type": "execute_result"
    }
   ],
   "source": [
    "len(str)"
   ]
  },
  {
   "cell_type": "markdown",
   "id": "fdf96a57-bd60-474e-a86f-4e4c5ce60859",
   "metadata": {},
   "source": []
  },
  {
   "cell_type": "code",
   "execution_count": null,
   "id": "5ad27d79-d3f7-4792-a36c-91b938391020",
   "metadata": {},
   "outputs": [],
   "source": [
    "str = \"Hello World\"\n",
    "print(str[2:5])"
   ]
  }
 ],
 "metadata": {
  "kernelspec": {
   "display_name": "Python 3 (ipykernel)",
   "language": "python",
   "name": "python3"
  },
  "language_info": {
   "codemirror_mode": {
    "name": "ipython",
    "version": 3
   },
   "file_extension": ".py",
   "mimetype": "text/x-python",
   "name": "python",
   "nbconvert_exporter": "python",
   "pygments_lexer": "ipython3",
   "version": "3.12.7"
  }
 },
 "nbformat": 4,
 "nbformat_minor": 5
}
