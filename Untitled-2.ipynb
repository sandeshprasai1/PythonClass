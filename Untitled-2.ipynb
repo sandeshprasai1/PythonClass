{
 "cells": [
  {
   "cell_type": "code",
   "execution_count": 1,
   "id": "af8a9b29",
   "metadata": {},
   "outputs": [
    {
     "name": "stdout",
     "output_type": "stream",
     "text": [
      "Hello World\n"
     ]
    }
   ],
   "source": [
    "print(\"Hello World\")"
   ]
  },
  {
   "cell_type": "code",
   "execution_count": 2,
   "id": "b81c97fb",
   "metadata": {},
   "outputs": [
    {
     "name": "stdout",
     "output_type": "stream",
     "text": [
      "4\n"
     ]
    }
   ],
   "source": [
    "print(2+2)"
   ]
  },
  {
   "cell_type": "code",
   "execution_count": 3,
   "id": "d370ff81",
   "metadata": {},
   "outputs": [
    {
     "name": "stdout",
     "output_type": "stream",
     "text": [
      "22\n"
     ]
    }
   ],
   "source": [
    "print(\"2\"+\"2\")"
   ]
  },
  {
   "cell_type": "code",
   "execution_count": 4,
   "id": "a1fb46e2",
   "metadata": {},
   "outputs": [
    {
     "name": "stdout",
     "output_type": "stream",
     "text": [
      "10\n"
     ]
    }
   ],
   "source": [
    "a= 10\n",
    "print(a)"
   ]
  },
  {
   "cell_type": "code",
   "execution_count": 5,
   "id": "cf6f804a",
   "metadata": {},
   "outputs": [
    {
     "data": {
      "text/plain": [
       "int"
      ]
     },
     "execution_count": 5,
     "metadata": {},
     "output_type": "execute_result"
    }
   ],
   "source": [
    "type(a)"
   ]
  },
  {
   "cell_type": "code",
   "execution_count": 6,
   "id": "b84a2665",
   "metadata": {},
   "outputs": [
    {
     "name": "stdout",
     "output_type": "stream",
     "text": [
      "Sandesh 22 28\n"
     ]
    }
   ],
   "source": [
    "name= \"Sandesh\"\n",
    "age=22\n",
    "roll=28\n",
    "\n",
    "print(name, age,roll)\n"
   ]
  },
  {
   "cell_type": "code",
   "execution_count": 10,
   "id": "dfca297c",
   "metadata": {},
   "outputs": [
    {
     "name": "stdout",
     "output_type": "stream",
     "text": [
      "Sandesh \n",
      " 22 \n",
      " 28\n"
     ]
    }
   ],
   "source": [
    "print(name, \"\\n\" ,age ,\"\\n\",roll )"
   ]
  },
  {
   "cell_type": "code",
   "execution_count": null,
   "id": "b9d64d6a",
   "metadata": {},
   "outputs": [
    {
     "name": "stdout",
     "output_type": "stream",
     "text": [
      "Sandesh {age}\n"
     ]
    }
   ],
   "source": []
  },
  {
   "cell_type": "code",
   "execution_count": 15,
   "id": "f90da67f",
   "metadata": {},
   "outputs": [
    {
     "ename": "NameError",
     "evalue": "name 'A' is not defined",
     "output_type": "error",
     "traceback": [
      "\u001b[1;31m---------------------------------------------------------------------------\u001b[0m",
      "\u001b[1;31mNameError\u001b[0m                                 Traceback (most recent call last)",
      "Cell \u001b[1;32mIn[15], line 2\u001b[0m\n\u001b[0;32m      1\u001b[0m a \u001b[38;5;241m=\u001b[39m\u001b[38;5;241m10\u001b[39m \n\u001b[1;32m----> 2\u001b[0m \u001b[38;5;28mprint\u001b[39m(A)\n",
      "\u001b[1;31mNameError\u001b[0m: name 'A' is not defined"
     ]
    }
   ],
   "source": [
    "a =10 \n",
    "print(A)"
   ]
  },
  {
   "cell_type": "code",
   "execution_count": 16,
   "id": "9970e30b",
   "metadata": {},
   "outputs": [
    {
     "name": "stdout",
     "output_type": "stream",
     "text": [
      "(4+5j)\n"
     ]
    }
   ],
   "source": [
    "x =2+3j\n",
    "y= 2+2j\n",
    "print(x+y)"
   ]
  },
  {
   "cell_type": "code",
   "execution_count": 17,
   "id": "43c87a39",
   "metadata": {},
   "outputs": [
    {
     "name": "stdout",
     "output_type": "stream",
     "text": [
      "2.0\n"
     ]
    }
   ],
   "source": [
    "print(x.real)"
   ]
  },
  {
   "cell_type": "code",
   "execution_count": 20,
   "id": "ad6fb47c",
   "metadata": {},
   "outputs": [
    {
     "name": "stdout",
     "output_type": "stream",
     "text": [
      "(2-3j)\n"
     ]
    }
   ],
   "source": [
    "print(x.conjugate())"
   ]
  },
  {
   "cell_type": "code",
   "execution_count": 36,
   "id": "e061da16",
   "metadata": {},
   "outputs": [
    {
     "name": "stdout",
     "output_type": "stream",
     "text": [
      "20\n"
     ]
    }
   ],
   "source": [
    "x= input(\"Please enter your age\")\n",
    "print(x)\n",
    "type(x)\n",
    "\n",
    "z=  int(x)"
   ]
  },
  {
   "cell_type": "code",
   "execution_count": 39,
   "id": "c9992d59",
   "metadata": {},
   "outputs": [
    {
     "name": "stdout",
     "output_type": "stream",
     "text": [
      "Eligable\n"
     ]
    }
   ],
   "source": [
    "if z>18:\n",
    "    print(\"Eligable\")"
   ]
  },
  {
   "cell_type": "code",
   "execution_count": 44,
   "id": "88a4fe48",
   "metadata": {},
   "outputs": [
    {
     "name": "stdout",
     "output_type": "stream",
     "text": [
      "I am learning Python\n"
     ]
    }
   ],
   "source": [
    "a= \"I am learning Python\"\n",
    "print(a)"
   ]
  },
  {
   "cell_type": "code",
   "execution_count": 46,
   "id": "6f947a8c",
   "metadata": {},
   "outputs": [
    {
     "name": "stdout",
     "output_type": "stream",
     "text": [
      "Ia \n"
     ]
    }
   ],
   "source": [
    "print(a[0:5:2])"
   ]
  },
  {
   "cell_type": "code",
   "execution_count": 47,
   "id": "9815657b",
   "metadata": {},
   "outputs": [
    {
     "name": "stdout",
     "output_type": "stream",
     "text": [
      "nohtyP gninrael ma I\n"
     ]
    }
   ],
   "source": [
    "print(a[::-1])"
   ]
  },
  {
   "cell_type": "code",
   "execution_count": 48,
   "id": "c46e6d36",
   "metadata": {},
   "outputs": [
    {
     "name": "stdout",
     "output_type": "stream",
     "text": [
      "  hello python world  \n",
      "  HELLO PYTHON WORLD  \n",
      "Hello Python World\n",
      "  Hello Python World  \n",
      "  Hello C++ World  \n",
      "['Hello', 'Python', 'World']\n",
      "['', '', 'Hello', 'Python', 'World', '', '']\n"
     ]
    }
   ],
   "source": [
    "text = \"  Hello Python World  \"\n",
    "\n",
    "print(text.lower()) \n",
    "print(text.upper())        \n",
    "print(text.strip())       \n",
    "print(text.title())       \n",
    "print(text.replace(\"Python\", \"C++\"))  \n",
    "print(text.split())\n",
    "print(text.split(\" \" ,-1 )) "
   ]
  },
  {
   "cell_type": "code",
   "execution_count": null,
   "id": "38db800c",
   "metadata": {},
   "outputs": [],
   "source": []
  }
 ],
 "metadata": {
  "kernelspec": {
   "display_name": "base",
   "language": "python",
   "name": "python3"
  },
  "language_info": {
   "codemirror_mode": {
    "name": "ipython",
    "version": 3
   },
   "file_extension": ".py",
   "mimetype": "text/x-python",
   "name": "python",
   "nbconvert_exporter": "python",
   "pygments_lexer": "ipython3",
   "version": "3.12.7"
  }
 },
 "nbformat": 4,
 "nbformat_minor": 5
}
