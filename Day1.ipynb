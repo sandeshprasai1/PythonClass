{
 "cells": [
  {
   "cell_type": "code",
   "execution_count": 3,
   "id": "61695fea-5689-4123-9954-79969da9825d",
   "metadata": {},
   "outputs": [
    {
     "name": "stdout",
     "output_type": "stream",
     "text": [
      "Hello World\n"
     ]
    }
   ],
   "source": [
    "print(\"Hello World\")"
   ]
  },
  {
   "cell_type": "code",
   "execution_count": null,
   "id": "849e53d7-c78e-41bf-97ab-170d5cfc35bf",
   "metadata": {},
   "outputs": [],
   "source": []
  },
  {
   "cell_type": "markdown",
   "id": "ee12a357-b34a-4dc7-a175-f08c34313a0f",
   "metadata": {},
   "source": [
    "# Variable in Python"
   ]
  },
  {
   "cell_type": "code",
   "execution_count": 7,
   "id": "9366bb80-fc9f-4de1-8f56-2a4eb937376c",
   "metadata": {},
   "outputs": [
    {
     "name": "stdout",
     "output_type": "stream",
     "text": [
      "10\n",
      "Hello World\n"
     ]
    }
   ],
   "source": [
    "x = 10\n",
    "y= \"Hello World\"\n",
    "print(x)\n",
    "print(y)"
   ]
  },
  {
   "cell_type": "markdown",
   "id": "9334176a-967b-4186-a500-7ea61bf55695",
   "metadata": {},
   "source": [
    " # comments in python"
   ]
  },
  {
   "cell_type": "code",
   "execution_count": 1,
   "id": "c6ca3c5f-d654-4e9c-bf75-88fa90adb85f",
   "metadata": {},
   "outputs": [
    {
     "name": "stdout",
     "output_type": "stream",
     "text": [
      "Hello World\n"
     ]
    }
   ],
   "source": [
    "# This is a  single line comment in python\n",
    "\"\"\"\n",
    "This is a multi line \n",
    "comment in python.\n",
    "\"\"\"\n",
    "print(\"Hello World\")"
   ]
  },
  {
   "cell_type": "markdown",
   "id": "070d4e04-f10b-4a69-baa6-24ec7136b211",
   "metadata": {},
   "source": [
    "# Python Indentation\n"
   ]
  },
  {
   "cell_type": "code",
   "execution_count": 4,
   "id": "79e27acd-264c-4efc-b881-9fa60a5582ee",
   "metadata": {},
   "outputs": [
    {
     "name": "stdout",
     "output_type": "stream",
     "text": [
      "Print 5 is greater than 2 \n"
     ]
    }
   ],
   "source": [
    "if (5>2):\n",
    "    print (\"Print 5 is greater than 2 \")"
   ]
  },
  {
   "cell_type": "markdown",
   "id": "886e9373-f950-4179-a2e0-fcf1e92c7662",
   "metadata": {},
   "source": [
    "# Variables in python"
   ]
  },
  {
   "cell_type": "code",
   "execution_count": 16,
   "id": "ce0e2dfb-1dd8-4795-9e88-900bad8d96af",
   "metadata": {},
   "outputs": [
    {
     "name": "stdout",
     "output_type": "stream",
     "text": [
      "5\n",
      "Sandesh\n"
     ]
    }
   ],
   "source": [
    "x= 5\n",
    "y= \"Sandesh\"\n",
    "print(x)\n",
    "print(y)"
   ]
  },
  {
   "cell_type": "code",
   "execution_count": 20,
   "id": "39b9ac47-e134-4e79-8652-a9b1e446f38d",
   "metadata": {},
   "outputs": [
    {
     "name": "stdout",
     "output_type": "stream",
     "text": [
      "<class 'int'>\n",
      "<class 'str'>\n"
     ]
    }
   ],
   "source": [
    "x= 5 # Here X in integer\n",
    "print(type(x))\n",
    "x=\"Ram\" # Here X is string\n",
    "print(type(x))\n",
    "\n",
    "\n"
   ]
  },
  {
   "cell_type": "code",
   "execution_count": null,
   "id": "0ad9d31f-2f5d-40b1-aaad-db6e2350a65d",
   "metadata": {},
   "outputs": [],
   "source": []
  },
  {
   "cell_type": "markdown",
   "id": "a6024b8a-d820-4a9f-bcf6-f5fddb07ee6a",
   "metadata": {},
   "source": [
    "Type Casting"
   ]
  },
  {
   "cell_type": "code",
   "execution_count": 21,
   "id": "41d0f57d-3670-4bfe-9b6c-8662f85aa121",
   "metadata": {},
   "outputs": [
    {
     "data": {
      "text/plain": [
       "str"
      ]
     },
     "execution_count": 21,
     "metadata": {},
     "output_type": "execute_result"
    }
   ],
   "source": [
    "x = str(3)\n",
    "type(x)"
   ]
  },
  {
   "cell_type": "code",
   "execution_count": null,
   "id": "89dfaba2-0397-4a6a-b9ab-6e6440bf6dfa",
   "metadata": {},
   "outputs": [],
   "source": []
  },
  {
   "cell_type": "markdown",
   "id": "939c7bb4-dd4f-4975-9de0-961656d4ba98",
   "metadata": {},
   "source": [
    "# Strings can be decleared using both single and double quotes\n"
   ]
  },
  {
   "cell_type": "code",
   "execution_count": 24,
   "id": "79ef4946-85b3-4dd2-88b0-ccf04b2e6983",
   "metadata": {},
   "outputs": [
    {
     "name": "stdout",
     "output_type": "stream",
     "text": [
      "Ram\n",
      "Shyam\n"
     ]
    }
   ],
   "source": [
    "x= \"Ram\"\n",
    "y = 'Shyam'\n",
    "\n",
    "print(x)\n",
    "print(y)"
   ]
  },
  {
   "cell_type": "code",
   "execution_count": null,
   "id": "03db4a38-5b94-49c5-b621-f9b129eb5975",
   "metadata": {},
   "outputs": [],
   "source": []
  },
  {
   "cell_type": "markdown",
   "id": "7f0fc5d7-3a98-47ef-8efe-b553b2f2b5e2",
   "metadata": {},
   "source": [
    "# Case Sensetive"
   ]
  },
  {
   "cell_type": "code",
   "execution_count": 28,
   "id": "131473c3-0c84-4917-98ee-cc7b0a7adfaa",
   "metadata": {},
   "outputs": [
    {
     "name": "stdout",
     "output_type": "stream",
     "text": [
      "10\n",
      "Ram\n"
     ]
    }
   ],
   "source": [
    "a = 10\n",
    "A=\"Ram\"\n",
    "print(a)\n",
    "print(A)"
   ]
  },
  {
   "cell_type": "markdown",
   "id": "36173713-ee49-4940-b0d4-ae288bc8fec7",
   "metadata": {},
   "source": []
  },
  {
   "cell_type": "markdown",
   "id": "36accb7c-a9b4-439c-80b1-376c8b28fec9",
   "metadata": {},
   "source": [
    "# leagal variable names"
   ]
  },
  {
   "cell_type": "code",
   "execution_count": 29,
   "id": "c6385f60-65e5-416c-91be-8936965d945a",
   "metadata": {},
   "outputs": [],
   "source": [
    "myvar = \"John\"\n",
    "my_var = \"John\"\n",
    "_my_var = \"John\"\n",
    "myVar = \"John\"\n",
    "MYVAR = \"John\"\n",
    "myvar2 = \"John\""
   ]
  },
  {
   "cell_type": "code",
   "execution_count": null,
   "id": "14f790c2-5ac8-494a-a67b-ae70f80fb054",
   "metadata": {},
   "outputs": [],
   "source": []
  },
  {
   "cell_type": "markdown",
   "id": "0f0e142e-3dfa-4577-95f6-238421458e81",
   "metadata": {},
   "source": [
    "# illeagal variable names"
   ]
  },
  {
   "cell_type": "code",
   "execution_count": 30,
   "id": "6f3f19bc-1348-440e-9db1-8fe343316332",
   "metadata": {},
   "outputs": [
    {
     "ename": "SyntaxError",
     "evalue": "invalid decimal literal (2185399839.py, line 1)",
     "output_type": "error",
     "traceback": [
      "\u001b[0;36m  Cell \u001b[0;32mIn[30], line 1\u001b[0;36m\u001b[0m\n\u001b[0;31m    2myvar = \"John\"\u001b[0m\n\u001b[0m    ^\u001b[0m\n\u001b[0;31mSyntaxError\u001b[0m\u001b[0;31m:\u001b[0m invalid decimal literal\n"
     ]
    }
   ],
   "source": [
    "2myvar = \"John\"\n",
    "my-var = \"John\"\n",
    "my var = \"John\""
   ]
  },
  {
   "cell_type": "code",
   "execution_count": null,
   "id": "fb121453-25ca-4400-b6ea-5a055e8c4195",
   "metadata": {},
   "outputs": [],
   "source": []
  },
  {
   "cell_type": "markdown",
   "id": "81feff3f-be0e-4f4b-9076-024848aa18bd",
   "metadata": {},
   "source": [
    "# naming a multi word variable names "
   ]
  },
  {
   "cell_type": "markdown",
   "id": "1b6798c3-33b2-4b78-82dd-c56a8c4fdb51",
   "metadata": {},
   "source": [
    "Camel Case\n"
   ]
  },
  {
   "cell_type": "code",
   "execution_count": 32,
   "id": "90e374cf-185f-43f8-b871-e6a665bb2368",
   "metadata": {},
   "outputs": [
    {
     "name": "stdout",
     "output_type": "stream",
     "text": [
      "Ram\n"
     ]
    }
   ],
   "source": [
    "myVariableName = \"Ram\"\n",
    "print(myVariableName)"
   ]
  },
  {
   "cell_type": "markdown",
   "id": "99a34640-01ee-4fe6-aa5c-9baaaac720dc",
   "metadata": {},
   "source": [
    "Pascal Case "
   ]
  },
  {
   "cell_type": "code",
   "execution_count": 34,
   "id": "8628e581-b63b-48b1-a8d2-64d3abbbac29",
   "metadata": {},
   "outputs": [
    {
     "name": "stdout",
     "output_type": "stream",
     "text": [
      "Ram\n"
     ]
    }
   ],
   "source": [
    "MyVariableName = \"Ram\"\n",
    "print(MyVariableName)"
   ]
  },
  {
   "cell_type": "markdown",
   "id": "23f45afa-3d08-4b69-b966-0b1fd56de418",
   "metadata": {},
   "source": [
    "Snake Case \n"
   ]
  },
  {
   "cell_type": "code",
   "execution_count": 35,
   "id": "9204d014-e0d2-4824-8526-3959efc0ab50",
   "metadata": {},
   "outputs": [
    {
     "name": "stdout",
     "output_type": "stream",
     "text": [
      "Ram\n"
     ]
    }
   ],
   "source": [
    "my_variable_name = \"Ram\"\n",
    "print(my_variable_name)"
   ]
  },
  {
   "cell_type": "markdown",
   "id": "bced29c6-2b2a-4bae-8184-941d5390fa4d",
   "metadata": {},
   "source": [
    "# Assign Many values to multiple variables "
   ]
  },
  {
   "cell_type": "code",
   "execution_count": 38,
   "id": "83ad25ee-176d-4f29-8b47-2e5b51a4657e",
   "metadata": {},
   "outputs": [
    {
     "name": "stdout",
     "output_type": "stream",
     "text": [
      "Apple\n",
      "Ball\n",
      "Cat\n"
     ]
    }
   ],
   "source": [
    "x,y,z= \"Apple\",\"Ball\",\"Cat\"\n",
    "print(x)\n",
    "print(y)\n",
    "print(z)"
   ]
  },
  {
   "cell_type": "markdown",
   "id": "9b9d41e8-874e-4859-9c93-071bcf2e3b28",
   "metadata": {},
   "source": [
    "# Assign a single value to multiple variable"
   ]
  },
  {
   "cell_type": "code",
   "execution_count": 39,
   "id": "a26cbb5e-1a53-4782-9fba-cc129a7d37eb",
   "metadata": {},
   "outputs": [
    {
     "name": "stdout",
     "output_type": "stream",
     "text": [
      "Ram\n",
      "Ram\n",
      "Ram\n"
     ]
    }
   ],
   "source": [
    "x=y=z= \"Ram\"\n",
    "\n",
    "print(x)\n",
    "print(y)\n",
    "print(z)"
   ]
  },
  {
   "cell_type": "markdown",
   "id": "99838446-ce49-45e5-bdff-274616156944",
   "metadata": {},
   "source": [
    "# Commas Seperated Output\n"
   ]
  },
  {
   "cell_type": "code",
   "execution_count": 40,
   "id": "244f6776-421f-431b-9f52-d2c632ed600c",
   "metadata": {},
   "outputs": [
    {
     "name": "stdout",
     "output_type": "stream",
     "text": [
      "Python Is awesome\n"
     ]
    }
   ],
   "source": [
    "x = \"Python\"\n",
    "y=\"Is\"\n",
    "z= \"awesome\"\n",
    "print(x,y,z)"
   ]
  },
  {
   "cell_type": "markdown",
   "id": "a1f6d833-b59c-41da-acd6-b09e573af8cf",
   "metadata": {},
   "source": [
    "# output seperated by + "
   ]
  },
  {
   "cell_type": "code",
   "execution_count": 41,
   "id": "c6ec38b1-22af-4672-805b-86deef4ef8ef",
   "metadata": {},
   "outputs": [
    {
     "name": "stdout",
     "output_type": "stream",
     "text": [
      "PythonIsawesome\n"
     ]
    }
   ],
   "source": [
    "print(x+y+z)"
   ]
  },
  {
   "cell_type": "code",
   "execution_count": null,
   "id": "9f6062d2-533d-41db-9e2b-73e686ad1d85",
   "metadata": {},
   "outputs": [],
   "source": []
  },
  {
   "cell_type": "markdown",
   "id": "0fad7923-0d45-4956-b6d9-616c6ab5a6ee",
   "metadata": {},
   "source": [
    "# complex data types"
   ]
  },
  {
   "cell_type": "code",
   "execution_count": 49,
   "id": "ff0790c1-52c5-4c26-ad04-f9af54d48e8c",
   "metadata": {},
   "outputs": [
    {
     "name": "stdout",
     "output_type": "stream",
     "text": [
      "(-4+7j)\n"
     ]
    }
   ],
   "source": [
    "x= 1+2j\n",
    "y= 2+3j\n",
    "\n",
    "print(x*y)"
   ]
  },
  {
   "cell_type": "code",
   "execution_count": null,
   "id": "e9dd360e-2f75-4ac1-854a-b8860c13a477",
   "metadata": {},
   "outputs": [],
   "source": []
  }
 ],
 "metadata": {
  "kernelspec": {
   "display_name": "Python 3 (ipykernel)",
   "language": "python",
   "name": "python3"
  },
  "language_info": {
   "codemirror_mode": {
    "name": "ipython",
    "version": 3
   },
   "file_extension": ".py",
   "mimetype": "text/x-python",
   "name": "python",
   "nbconvert_exporter": "python",
   "pygments_lexer": "ipython3",
   "version": "3.12.7"
  }
 },
 "nbformat": 4,
 "nbformat_minor": 5
}
